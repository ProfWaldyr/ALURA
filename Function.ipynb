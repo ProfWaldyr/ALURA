{
  "nbformat": 4,
  "nbformat_minor": 0,
  "metadata": {
    "colab": {
      "provenance": [],
      "authorship_tag": "ABX9TyOFDjLo0HNEIJWzh0O26+uT",
      "include_colab_link": true
    },
    "kernelspec": {
      "name": "python3",
      "display_name": "Python 3"
    },
    "language_info": {
      "name": "python"
    }
  },
  "cells": [
    {
      "cell_type": "markdown",
      "metadata": {
        "id": "view-in-github",
        "colab_type": "text"
      },
      "source": [
        "<a href=\"https://colab.research.google.com/github/ProfWaldyr/ALURA/blob/main/Function.ipynb\" target=\"_parent\"><img src=\"https://colab.research.google.com/assets/colab-badge.svg\" alt=\"Open In Colab\"/></a>"
      ]
    },
    {
      "cell_type": "markdown",
      "source": [
        "##FUNÇÃO 01\n",
        "\n",
        "print: exibe informações no console"
      ],
      "metadata": {
        "id": "-MPDzag5ZMwD"
      }
    },
    {
      "cell_type": "code",
      "execution_count": 46,
      "metadata": {
        "colab": {
          "base_uri": "https://localhost:8080/"
        },
        "id": "Ex6YGD_mYn4c",
        "outputId": "3825ece6-59ab-432a-ed9d-61feeaa428a8"
      },
      "outputs": [
        {
          "output_type": "stream",
          "name": "stdout",
          "text": [
            "Hi world, Whats up baby?\n"
          ]
        }
      ],
      "source": [
        "print(\"Hi world, Whats up baby?\")"
      ]
    },
    {
      "cell_type": "markdown",
      "source": [
        "##FUNÇÃO 02\n",
        "\n",
        "input(): Obtém entrada do usuário do console"
      ],
      "metadata": {
        "id": "CMz_eW31ZetC"
      }
    },
    {
      "cell_type": "code",
      "source": [
        "    nome = input(\"Whats your name? \")\n",
        "    print(f\"Hello, How is going {nome}?\")"
      ],
      "metadata": {
        "colab": {
          "base_uri": "https://localhost:8080/"
        },
        "id": "lqK7SXAdZkvJ",
        "outputId": "57fdf664-23cd-4ac4-9f0a-da2057f20012"
      },
      "execution_count": 47,
      "outputs": [
        {
          "output_type": "stream",
          "name": "stdout",
          "text": [
            "Whats your name? waldyr\n",
            "Hello, How is going waldyr?\n"
          ]
        }
      ]
    },
    {
      "cell_type": "markdown",
      "source": [
        "##FUNÇÃO 03\n",
        "\n",
        "len(): Retorna o número de itens em um objeto (como strings ou listas)."
      ],
      "metadata": {
        "id": "nRJJEZ7Mbhvq"
      }
    },
    {
      "cell_type": "code",
      "source": [
        "texto = \"Utilizado para contar os caracteres inseridos nesta frase\"\n",
        "len(texto)"
      ],
      "metadata": {
        "colab": {
          "base_uri": "https://localhost:8080/"
        },
        "id": "4QwY99Drb51J",
        "outputId": "721b63df-3e02-42ef-fc54-a0591e7367ea"
      },
      "execution_count": 26,
      "outputs": [
        {
          "output_type": "execute_result",
          "data": {
            "text/plain": [
              "57"
            ]
          },
          "metadata": {},
          "execution_count": 26
        }
      ]
    },
    {
      "cell_type": "code",
      "source": [
        "quantidades = (10, 20, 30, 40, 50)\n",
        "len(quantidades)"
      ],
      "metadata": {
        "colab": {
          "base_uri": "https://localhost:8080/"
        },
        "id": "FvYxV4aHdX9O",
        "outputId": "2dc07567-6a73-4a47-dd1a-504fcab1a594"
      },
      "execution_count": 27,
      "outputs": [
        {
          "output_type": "execute_result",
          "data": {
            "text/plain": [
              "5"
            ]
          },
          "metadata": {},
          "execution_count": 27
        }
      ]
    },
    {
      "cell_type": "markdown",
      "source": [
        "##FUNÇÃO 04\n",
        "\n",
        "range(): Cria uma sequência de números"
      ],
      "metadata": {
        "id": "abNEHkmjeW0i"
      }
    },
    {
      "cell_type": "code",
      "source": [
        "#Monta uma lista de números de 0 até 10\n",
        "\n",
        "for numero in range(10):\n",
        "    print(numero)"
      ],
      "metadata": {
        "colab": {
          "base_uri": "https://localhost:8080/"
        },
        "id": "j1KaLhKFeeN_",
        "outputId": "3da287e9-7690-412b-9c6f-11ba531d41d6"
      },
      "execution_count": 40,
      "outputs": [
        {
          "output_type": "stream",
          "name": "stdout",
          "text": [
            "0\n",
            "1\n",
            "2\n",
            "3\n",
            "4\n",
            "5\n",
            "6\n",
            "7\n",
            "8\n",
            "9\n"
          ]
        }
      ]
    },
    {
      "cell_type": "code",
      "source": [
        "#Marca o intervalo entre 1 até 5\n",
        "\n",
        "for numero in range(1,5):\n",
        "    print(numero)"
      ],
      "metadata": {
        "colab": {
          "base_uri": "https://localhost:8080/"
        },
        "id": "qCnuQvzgf_GD",
        "outputId": "a8ad0005-a54f-4443-d3a3-1b2c63a7a582"
      },
      "execution_count": 43,
      "outputs": [
        {
          "output_type": "stream",
          "name": "stdout",
          "text": [
            "1\n",
            "2\n",
            "3\n",
            "4\n"
          ]
        }
      ]
    },
    {
      "cell_type": "code",
      "source": [
        "#números do 2 ao 11, contando de 2 em 2\n",
        "\n",
        "for j in range(2, 11, 2):\n",
        "    print(j)"
      ],
      "metadata": {
        "colab": {
          "base_uri": "https://localhost:8080/"
        },
        "id": "bjYmw1gagS9V",
        "outputId": "48e463b6-5c86-49d1-8d02-74f9b0ca406a"
      },
      "execution_count": 45,
      "outputs": [
        {
          "output_type": "stream",
          "name": "stdout",
          "text": [
            "2\n",
            "4\n",
            "6\n",
            "8\n",
            "10\n"
          ]
        }
      ]
    },
    {
      "cell_type": "markdown",
      "source": [
        "## FUNÇÃO 05\n",
        "\n",
        "max()/min(): Encontra o maior/menor valor numa sequência"
      ],
      "metadata": {
        "id": "07fa_bBDiLnD"
      }
    },
    {
      "cell_type": "code",
      "source": [
        "numeros = [25, 10, 30]\n",
        "\n",
        "print(f\"Maior número é: {max(numeros)}\")\n",
        "print(f\"Menor número é: {min(numeros)}\")"
      ],
      "metadata": {
        "colab": {
          "base_uri": "https://localhost:8080/"
        },
        "id": "-KM9trD9iQpd",
        "outputId": "fb9f229c-1d62-4bd3-fe1d-08b04c28b5f4"
      },
      "execution_count": 60,
      "outputs": [
        {
          "output_type": "stream",
          "name": "stdout",
          "text": [
            "Maior número é: 30\n",
            "Menor número é: 10\n"
          ]
        }
      ]
    },
    {
      "cell_type": "markdown",
      "source": [
        "## FUNÇÃO 06\n",
        "\n",
        "sum(): Soma os elementos de uma lista numérica"
      ],
      "metadata": {
        "id": "Fd4CF29IkrJg"
      }
    },
    {
      "cell_type": "code",
      "source": [
        "numeros = [1, 2, 3, 5]\n",
        "print(sum(numeros))"
      ],
      "metadata": {
        "colab": {
          "base_uri": "https://localhost:8080/"
        },
        "id": "P9IIZ3rWkupD",
        "outputId": "e761fa34-7ab4-4881-89ff-e401bd47ce72"
      },
      "execution_count": 63,
      "outputs": [
        {
          "output_type": "stream",
          "name": "stdout",
          "text": [
            "11\n"
          ]
        }
      ]
    },
    {
      "cell_type": "markdown",
      "source": [
        "  ## FUNÇÃO 06\n",
        "\n",
        "  append(): Adiciona um item ao final de uma lista."
      ],
      "metadata": {
        "id": "d-Hlqp0RlBb1"
      }
    },
    {
      "cell_type": "code",
      "source": [
        "minha_lista = [1, 2, 3, 4, 5, 6]\n",
        "minha_lista.append(37)\n",
        "print(minha_lista)"
      ],
      "metadata": {
        "colab": {
          "base_uri": "https://localhost:8080/"
        },
        "id": "dHcnTna0lHCU",
        "outputId": "1c62702c-f760-44cf-9dc4-0c06364842c5"
      },
      "execution_count": 68,
      "outputs": [
        {
          "output_type": "stream",
          "name": "stdout",
          "text": [
            "[1, 2, 3, 4, 5, 6, 37]\n"
          ]
        }
      ]
    },
    {
      "cell_type": "markdown",
      "source": [
        "## FUNÇÃO 07\n",
        "\n",
        "sort(): Ordena os elementos de uma lista"
      ],
      "metadata": {
        "id": "WdSJUQqnlora"
      }
    },
    {
      "cell_type": "code",
      "source": [
        "    numeros = [45, 31, 3, 1, 2, 9, 14, 8, 25, 19]\n",
        "    numeros.sort()\n",
        "    print(f\" The correct series is the: {numeros}\")"
      ],
      "metadata": {
        "colab": {
          "base_uri": "https://localhost:8080/"
        },
        "id": "bMXKwjzDlvRE",
        "outputId": "b6030fdf-ad36-4ad0-93c7-860af4fb6c75"
      },
      "execution_count": 72,
      "outputs": [
        {
          "output_type": "stream",
          "name": "stdout",
          "text": [
            " The correct series is the: [1, 2, 3, 8, 9, 14, 19, 25, 31, 45]\n"
          ]
        }
      ]
    }
  ]
}